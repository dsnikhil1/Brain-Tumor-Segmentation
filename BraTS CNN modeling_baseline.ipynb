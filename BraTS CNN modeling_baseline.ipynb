{
 "cells": [
  {
   "cell_type": "code",
   "execution_count": 1,
   "metadata": {},
   "outputs": [
    {
     "name": "stdout",
     "output_type": "stream",
     "text": [
      "Segmentation Models: using `keras` framework.\n"
     ]
    }
   ],
   "source": [
    "import numpy as np\n",
    "import matplotlib.pyplot as plt\n",
    "import nibabel as nib\n",
    "import pandas as pd\n",
    "import glob\n",
    "import random\n",
    "import os\n",
    "from tifffile import imsave\n",
    "import splitfolders\n",
    "from tensorflow.keras.utils import to_categorical\n",
    "from sklearn.preprocessing import MinMaxScaler\n",
    "import segmentation_models as sm\n",
    "from torch.nn import CrossEntropyLoss\n",
    "from torch.nn import MSELoss\n",
    "from matplotlib import pyplot as plt\n",
    "import random\n",
    "mmscaler = MinMaxScaler()\n",
    "import pandas as pd\n",
    "import numpy as np\n",
    "import torch\n",
    "import torchvision\n",
    "import matplotlib.pyplot as plt\n",
    "from random import shuffle\n",
    "import PIL\n",
    "from PIL import Image\n",
    "import copy\n",
    "import cv2\n",
    "import glob\n",
    "import cv2\n",
    "import os \n",
    "from os import path\n",
    "from skimage.color import lab2rgb\n",
    "import torch.nn as nn\n",
    "from torch.autograd import Variable\n",
    "from torch.nn import MaxPool3d\n",
    "from torch.nn import AvgPool3d\n",
    "from torch.nn import Linear, ReLU, MSELoss, Sequential, Conv2d, Conv3d, ConvTranspose3d, BatchNorm3d, MaxPool2d, Module, Softmax, BatchNorm2d, Dropout, ConvTranspose2d\n",
    "from torch.optim import Adam, SGD\n",
    "from math import log10, sqrt\n",
    "import numpy as np\n",
    "from skimage.metrics import structural_similarity\n",
    "import argparse\n",
    "import imutils\n",
    "torch.set_default_tensor_type('torch.FloatTensor')"
   ]
  },
  {
   "cell_type": "code",
   "execution_count": 2,
   "metadata": {},
   "outputs": [],
   "source": [
    "train_path_images = 'BraTS2020_TrainingData/input_data_128/train/images'\n",
    "train_path_masks = 'BraTS2020_TrainingData/input_data_128/train/masks'"
   ]
  },
  {
   "cell_type": "code",
   "execution_count": 3,
   "metadata": {},
   "outputs": [],
   "source": [
    "all_train_images = []\n",
    "for file in os.listdir(train_path_images):\n",
    "    img = np.load(train_path_images+'/'+file)\n",
    "    all_train_images.append(img)\n",
    "all_train_images = np.asarray(all_train_images)\n",
    "all_train_masks = []\n",
    "for file in os.listdir(train_path_masks):\n",
    "    img = np.load(train_path_masks+'/'+file)\n",
    "    all_train_masks.append(img)\n",
    "all_train_masks = np.asarray(all_train_masks)"
   ]
  },
  {
   "cell_type": "code",
   "execution_count": 4,
   "metadata": {},
   "outputs": [],
   "source": [
    "all_train_images = torch.tensor(all_train_images)\n",
    "all_train_masks = torch.tensor(all_train_masks)"
   ]
  },
  {
   "cell_type": "code",
   "execution_count": null,
   "metadata": {},
   "outputs": [],
   "source": []
  },
  {
   "cell_type": "code",
   "execution_count": null,
   "metadata": {},
   "outputs": [],
   "source": []
  },
  {
   "cell_type": "code",
   "execution_count": null,
   "metadata": {},
   "outputs": [],
   "source": []
  },
  {
   "cell_type": "code",
   "execution_count": 8,
   "metadata": {},
   "outputs": [],
   "source": [
    "class Convnet(nn.Module):   \n",
    "    def __init__(self):\n",
    "        super(Convnet, self).__init__()\n",
    "\n",
    "        self.convolution_layers = Sequential(\n",
    "            Conv3d(3, 8, kernel_size=3, stride=1, padding=1),\n",
    "            MaxPool3d(kernel_size=2,stride=2),\n",
    "            nn.LeakyReLU(),\n",
    "            Conv3d(8, 16, kernel_size=3, stride=1, padding=1),\n",
    "            MaxPool3d(kernel_size=2,stride=2),\n",
    "            nn.LeakyReLU(),\n",
    "            Conv3d(16, 32, kernel_size=3, stride=1, padding=1),\n",
    "            MaxPool3d(kernel_size=2,stride=2),\n",
    "            nn.LeakyReLU(),\n",
    "            Conv3d(32, 64, kernel_size=3, stride=1, padding=1),\n",
    "            MaxPool3d(kernel_size=2,stride=2),\n",
    "            nn.LeakyReLU(),\n",
    "            Conv3d(64, 128, kernel_size=3, stride=1, padding=1),\n",
    "            MaxPool3d(kernel_size=2,stride=2),\n",
    "            nn.LeakyReLU()\n",
    "        )\n",
    "        \n",
    "        self.deconvolution_layers = Sequential(\n",
    "            ConvTranspose3d(128, 64, kernel_size=4, stride=2, padding=1),\n",
    "            nn.LeakyReLU(),\n",
    "            ConvTranspose3d(64, 32, kernel_size=4, stride=2, padding=1),\n",
    "            nn.LeakyReLU(),\n",
    "            ConvTranspose3d(32, 16, kernel_size=4, stride=2, padding=1),\n",
    "            nn.LeakyReLU(),\n",
    "            ConvTranspose3d(16, 8, kernel_size=4, stride=2, padding=1),\n",
    "            nn.LeakyReLU(),\n",
    "            ConvTranspose3d(8, 4, kernel_size=4, stride=2, padding=1),\n",
    "            nn.LeakyReLU()\n",
    "        )\n",
    "        \n",
    "\n",
    "\n",
    "    # Defining the forward pass    \n",
    "    def forward(self, x):\n",
    "        x = self.convolution_layers(x)\n",
    "        x = self.deconvolution_layers(x)\n",
    "        #print(x.shape)\n",
    "        return x"
   ]
  },
  {
   "cell_type": "code",
   "execution_count": 42,
   "metadata": {},
   "outputs": [],
   "source": [
    "import gc\n",
    "gc.collect()\n",
    "torch.cuda.empty_cache()"
   ]
  },
  {
   "cell_type": "code",
   "execution_count": null,
   "metadata": {},
   "outputs": [],
   "source": [
    "device=\"cpu\"\n",
    "print(\"Device\", device)\n",
    "\n",
    "\n",
    "batch_size = 2\n",
    "num_epochs = 5\n",
    "N=258\n",
    "learning_rate = 0.01\n",
    "batches = int(N/batch_size)\n",
    "\n",
    "\n",
    "model = Convnet()\n",
    "model = model.float()\n",
    "model.to(device)\n",
    "\n",
    "train_data=copy.deepcopy(all_train_images)\n",
    "train_data = train_data.to(device)\n",
    "print(\"Printing train data shape\")\n",
    "print(train_data.shape)\n",
    "train_mask = all_train_masks.to(device)\n",
    "print(\"Printing train mask shape\")\n",
    "print(train_mask.shape)\n",
    "#test_data = copy.deepcopy(test_L)\n",
    "#test_data = test_data.to(device)\n",
    "#print(\"Printing test data shape\")\n",
    "#print(test_data.shape)\n",
    "#test_ab = test_ab.to(device)\n",
    "#print(\"Printing test ab shape\")\n",
    "#print(test_ab.shape)\n",
    "\n",
    "\n",
    "error = nn.CrossEntropyLoss() # This works well with the linear output layer\n",
    "\n",
    "dice_l = sm.losses.DiceLoss(class_weights=np.array([0.25, 0.25, 0.25, 0.25])) #dice loss\n",
    "focal_l = sm.losses.CategoricalFocalLoss() #focal loss\n",
    "total_l = dice_l + (1 * focal_l) #total loss\n",
    "optimizer = torch.optim.Adam(model.parameters(), lr=learning_rate)\n",
    "print(\"batch_size:\",batch_size)\n",
    "print('num_epochs:',num_epochs)\n",
    "print(\"learning_rate:\",learning_rate)\n",
    "print(\"batches:\",batches)\n",
    "print(\"optimizer:\",'Adam')\n",
    "print(\"Loss function:\",\"CrossEntropyLoss\")\n",
    "print(model)\n",
    "\n",
    "loss_hist = np.zeros(num_epochs)\n",
    "#loss_test_hist = np.zeros(num_epochs)\n",
    "\n",
    "for epoch in range(num_epochs):\n",
    "    for index in range(batches):\n",
    "        patterns = train_data[index*batch_size:(index+1)*batch_size]\n",
    "        labels = train_mask[index*batch_size:(index+1)*batch_size]\n",
    "        \n",
    "        train = Variable(patterns.view(batch_size,3,128,128,128))\n",
    "        train = train.float()\n",
    "        masks = Variable(labels.view(batch_size,4,128,128,128))\n",
    "        masks = masks.float()\n",
    "        \n",
    "        #print(\"printing all labels shape\")\n",
    "        #print(labels.shape)\n",
    "        # Forward pass \n",
    "        outputs = model(train)\n",
    "        #loss = error(outputs, masks)\n",
    "        loss = total_l\n",
    "        \n",
    "\n",
    "        # Initializing a gradient as 0 so there is no mixing of gradient among the batches\n",
    "        optimizer.zero_grad()\n",
    "\n",
    "        #Propagating the error backward\n",
    "        loss.backward()\n",
    "\n",
    "        # Optimizing the parameters\n",
    "        optimizer.step()\n",
    "        \n",
    "        #Saving the loss for visualization\n",
    "        loss_hist[epoch] += loss.data\n",
    "        \n",
    "\n",
    "    #test_total\n",
    "    #patterns = test_data\n",
    "    #labels = test_ab\n",
    "    #outputs = model(patterns)\n",
    "    #is_correct = torch.subtract(labels,outputs)\n",
    "    #loss_test_hist[epoch] += (is_correct.sum()*is_correct.sum())/test_size\n",
    "\n",
    "    #if epoch%10==0:\n",
    "    print(\"Epoch: {}, Loss: {:.7f}\".format( epoch, loss_hist[epoch]))\n",
    "\n",
    "\n",
    "\n",
    "plt.figure()\n",
    "plt.plot(loss_hist)\n",
    "plt.xlabel(\"epoch\")\n",
    "plt.ylabel(\"Cross Entropy Loss\")\n",
    "plt.title(\"Brain Tumor Segmentation\")\n",
    "plt.legend([\"Training Loss\"])\n",
    "plt.show()"
   ]
  },
  {
   "cell_type": "code",
   "execution_count": 43,
   "metadata": {},
   "outputs": [],
   "source": [
    "test_image=all_train_images[0]\n",
    "test_image=Variable(test_image.view(1,3,128,128,128))\n",
    "test_image=test_image.float()\n",
    "test_image=test_image.to(device)\n",
    "test_image_output=model(test_image)\n",
    "test_image_output=test_image_output.squeeze()\n",
    "f = test_image_output.detach()\n",
    "p=np.array(f.cpu())\n",
    "data = np.moveaxis(p, 0, 3)\n",
    "test_seg_mask=np.argmax(data, axis=3)"
   ]
  },
  {
   "cell_type": "code",
   "execution_count": 38,
   "metadata": {},
   "outputs": [
    {
     "data": {
      "image/png": "[encoded data removed]",
      "text/plain": [
       "<Figure size 432x288 with 1 Axes>"
      ]
     },
     "metadata": {
      "needs_background": "light"
     },
     "output_type": "display_data"
    }
   ],
   "source": [
    "or_seg_mask = np.argmax(all_train_masks[0],axis=3)\n",
    "plt.imshow(or_seg_mask[:,:,n_slice])\n",
    "plt.title('Original Segmentation Mask')\n",
    "plt.show()"
   ]
  },
  {
   "cell_type": "code",
   "execution_count": null,
   "metadata": {},
   "outputs": [],
   "source": []
  },
  {
   "cell_type": "code",
   "execution_count": null,
   "metadata": {},
   "outputs": [],
   "source": []
  }
 ],
 "metadata": {
  "kernelspec": {
   "display_name": "Python 3",
   "language": "python",
   "name": "python3"
  },
  "language_info": {
   "codemirror_mode": {
    "name": "ipython",
    "version": 3
   },
   "file_extension": ".py",
   "mimetype": "text/x-python",
   "name": "python",
   "nbconvert_exporter": "python",
   "pygments_lexer": "ipython3",
   "version": "3.8.3"
  }
 },
 "nbformat": 4,
 "nbformat_minor": 4
}
